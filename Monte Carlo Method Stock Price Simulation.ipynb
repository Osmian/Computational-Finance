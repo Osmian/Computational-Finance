{
 "cells": [
  {
   "cell_type": "markdown",
   "metadata": {},
   "source": [
    "# Monte Carlo Method Stock Price Simulation\n",
    "\n",
    "   I used Alpha Vantage's API for the financial data retrieval. To run this code you must input your API key into the 'API_KEY' field below. Thank you to http://www.pythonforfinance.net/2016/11/28/monte-carlo-simulation-in-python/ for all of the information regarding how to create a monte carlo method stock price simulation"
   ]
  },
  {
   "cell_type": "code",
   "execution_count": 1,
   "metadata": {},
   "outputs": [],
   "source": [
    "#Necessary Imports\n",
    "import datetime\n",
    "import math\n",
    "from scipy.stats import norm\n",
    "import pandas as pd\n",
    "import matplotlib\n",
    "from alpha_vantage.timeseries import TimeSeries\n",
    "import matplotlib.pyplot as plt\n",
    "import numpy as np\n",
    "import seaborn as sns\n",
    "plt.style.use('seaborn')\n",
    "%matplotlib inline\n",
    "\n",
    "#Insert stock symbol to model\n",
    "stock = 'GOOG'\n",
    "\n",
    "#Insert your API Key here\n",
    "API_KEY = 'YJK98D4VULD5HOE1'\n",
    "\n",
    "#API Call using Alpha Vantage, output_format is full to retrieve as much data as possible\n",
    "ts = TimeSeries(key=API_KEY, output_format='pandas', indexing_type='date')\n",
    "stockData, meta_data = ts.get_daily_adjusted(symbol=stock,outputsize='full')\n",
    "\n",
    "#Renaming columns and changing the index type from str to datetime format so we can compute CAGR\n",
    "stockData=stockData.rename(columns = {'1. open':'Open',\n",
    "                                      '2. high':'High',\n",
    "                                      '3. low':'Low',\n",
    "                                      '4. close':'Close',\n",
    "                                      '5. adjusted close':'Adjusted Close',\n",
    "                                      '6. volume':'Volume'})\n",
    "\n",
    "#Convert the index to datetime format and sort so we can get time elapsed\n",
    "stockData.index = pd.to_datetime(stockData.index)\n",
    "stockData.sort_index()\n",
    "days = (stockData.index[-1] - stockData.index[0]).days\n"
   ]
  },
  {
   "cell_type": "code",
   "execution_count": 2,
   "metadata": {},
   "outputs": [
    {
     "name": "stdout",
     "output_type": "stream",
     "text": [
      "Compund Annual Growth Rate: 19.0%\n",
      "Annualized Volatility: 23.0%\n"
     ]
    }
   ],
   "source": [
    "#Compound annual growth rate computation\n",
    "end_value = stockData['Adjusted Close'][-1]\n",
    "begin_value= stockData['Adjusted Close'][1]\n",
    "inverse_num_years = 365.0/days\n",
    "cagr = ((end_value/begin_value)**inverse_num_years) - 1\n",
    "\n",
    "print('Compund Annual Growth Rate: ' + str(round(cagr,2)*100)+'%')\n",
    "\n",
    "\n",
    "#Creating a series of percentage returns and calculating the annual volatility\n",
    "stockData['Returns'] = stockData['Adjusted Close'].pct_change()\n",
    "volatility = stockData['Returns'].std() * (math.sqrt(252))\n",
    "print('Annualized Volatility: ' + str(round(volatility,2)*100)+'%')"
   ]
  },
  {
   "cell_type": "code",
   "execution_count": 9,
   "metadata": {},
   "outputs": [
    {
     "data": {
      "image/png": "[encoded data removed]",
      "text/plain": [
       "<Figure size 432x288 with 1 Axes>"
      ]
     },
     "metadata": {},
     "output_type": "display_data"
    },
    {
     "data": {
      "text/plain": [
       "(array([ 1.,  0.,  0.,  0.,  0.,  0.,  0.,  0.,  1.,  1.,  2.,  1.,  0.,\n",
       "         0.,  3.,  0.,  0.,  3.,  0.,  2.,  3.,  0.,  1.,  1.,  1.,  2.,\n",
       "         2.,  7.,  3.,  4.,  3.,  3.,  6.,  6.,  2.,  4.,  6.,  5.,  3.,\n",
       "         6.,  5.,  8.,  8.,  5.,  6.,  2.,  2.,  7.,  8.,  6.,  6., 10.,\n",
       "         9.,  9.,  6.,  4.,  6.,  2.,  3.,  5.,  4.,  4.,  3.,  3.,  3.,\n",
       "         3.,  6.,  5.,  2.,  1.,  1.,  1.,  0.,  2.,  1.,  1.,  2.,  0.,\n",
       "         0.,  0.,  0.,  3.,  2.,  1.,  1.,  0.,  0.,  0.,  0.,  0.,  1.,\n",
       "         0.,  0.,  0.,  1.,  1.,  0.,  0.,  0.,  1.]),\n",
       " array([-0.03976447, -0.03890381, -0.03804316, -0.0371825 , -0.03632184,\n",
       "        -0.03546119, -0.03460053, -0.03373987, -0.03287922, -0.03201856,\n",
       "        -0.0311579 , -0.03029724, -0.02943659, -0.02857593, -0.02771527,\n",
       "        -0.02685462, -0.02599396, -0.0251333 , -0.02427265, -0.02341199,\n",
       "        -0.02255133, -0.02169067, -0.02083002, -0.01996936, -0.0191087 ,\n",
       "        -0.01824805, -0.01738739, -0.01652673, -0.01566607, -0.01480542,\n",
       "        -0.01394476, -0.0130841 , -0.01222345, -0.01136279, -0.01050213,\n",
       "        -0.00964148, -0.00878082, -0.00792016, -0.0070595 , -0.00619885,\n",
       "        -0.00533819, -0.00447753, -0.00361688, -0.00275622, -0.00189556,\n",
       "        -0.00103491, -0.00017425,  0.00068641,  0.00154707,  0.00240772,\n",
       "         0.00326838,  0.00412904,  0.00498969,  0.00585035,  0.00671101,\n",
       "         0.00757166,  0.00843232,  0.00929298,  0.01015364,  0.01101429,\n",
       "         0.01187495,  0.01273561,  0.01359626,  0.01445692,  0.01531758,\n",
       "         0.01617823,  0.01703889,  0.01789955,  0.01876021,  0.01962086,\n",
       "         0.02048152,  0.02134218,  0.02220283,  0.02306349,  0.02392415,\n",
       "         0.0247848 ,  0.02564546,  0.02650612,  0.02736678,  0.02822743,\n",
       "         0.02908809,  0.02994875,  0.0308094 ,  0.03167006,  0.03253072,\n",
       "         0.03339137,  0.03425203,  0.03511269,  0.03597335,  0.036834  ,\n",
       "         0.03769466,  0.03855532,  0.03941597,  0.04027663,  0.04113729,\n",
       "         0.04199795,  0.0428586 ,  0.04371926,  0.04457992,  0.04544057,\n",
       "         0.04630123]),\n",
       " <a list of 100 Patch objects>)"
      ]
     },
     "execution_count": 9,
     "metadata": {},
     "output_type": "execute_result"
    },
    {
     "data": {
      "image/png": "[encoded data removed]",
      "text/plain": [
       "<Figure size 432x288 with 1 Axes>"
      ]
     },
     "metadata": {},
     "output_type": "display_data"
    }
   ],
   "source": [
    "# S is the latest close data point\n",
    "S = stockData['Adjusted Close'][-1]\n",
    "#T is the number of trading days in a year, the x-axis we will model\n",
    "T = 252\n",
    "\n",
    "#Creating a list of daily returns using a random normal distribution ie, np.random.normal\n",
    "daily_returns=np.random.normal((cagr/T),volatility/math.sqrt(T),T)+1\n",
    "\n",
    "# The starting price is the latest adjusted close and we create a price series from the daily_returns generated\n",
    "price_list = [S]\n",
    "for x in daily_returns:\n",
    "    price_list.append(price_list[-1]*x)\n",
    "\n",
    "# This plots only one random walk of the stock and the histogram corresponding to it\n",
    "# It gives us no insight though since the probability of this exact distribution happending is basically zero\n",
    "\n",
    "\n",
    "plt.plot(price_list)\n",
    "plt.show()\n",
    "\n",
    "\n",
    "plt.hist(daily_returns-1,bins=100)"
   ]
  },
  {
   "cell_type": "code",
   "execution_count": null,
   "metadata": {},
   "outputs": [],
   "source": [
    "# Now we overlay all of the plots onto one graph for as many trials as we wish to simulate\n",
    "# Giving us the potential outcomes generated for all trials from cagr and volatility and randomness\n",
    "plt.figure(figsize=(30,20))\n",
    "plt.title('Random Walk Outputs', fontsize=35)\n",
    "plt.xlabel('Trading Days', fontsize=35)\n",
    "plt.ylabel('Stock Price', fontsize=35)\n",
    "plt.tick_params(labelsize=25)\n",
    "\n",
    "S = stockData['Adjusted Close'][-1]\n",
    "T = 252\n",
    "ending_prices = list()\n",
    "\n",
    "trials = 1000\n",
    "for x in range(trials):\n",
    "    daily_returns=np.random.normal((cagr/T),volatility/math.sqrt(T),T)+1\n",
    "    price_list = [S]\n",
    "    \n",
    "    for x in daily_returns:\n",
    "        price_list.append(price_list[-1]*x)\n",
    "        \n",
    "    plt.plot(price_list)\n",
    "    \n",
    "    ending_prices.append(price_list[-1])\n",
    "    \n",
    "\n",
    "plt.show()\n",
    "# print(price_list)\n",
    "\n",
    "\n",
    "plt.hist(ending_prices,bins=100)\n",
    "plt.show()\n"
   ]
  },
  {
   "cell_type": "code",
   "execution_count": null,
   "metadata": {},
   "outputs": [],
   "source": [
    "#The mean of our ending prices is our expected value, using numpy to calculate mean\n",
    "print(np.mean(ending_prices),2)\n",
    "expected_final_val  = round(np.mean(ending_prices),2)\n",
    "print(\"Expected Final Value: \" + str(expected_final_val))\n",
    "print(\"5% quantile =\",np.percentile(ending_prices,5))\n",
    "print(\"95% quantile =\",np.percentile(ending_prices,95))"
   ]
  },
  {
   "cell_type": "code",
   "execution_count": null,
   "metadata": {},
   "outputs": [],
   "source": [
    "plt.hist(ending_prices,bins=100)\n",
    "plt.axvline(np.percentile(ending_prices,5), color='r', linestyle='dashed', linewidth=2)\n",
    "plt.axvline(np.percentile(ending_prices,95), color='r', linestyle='dashed', linewidth=2)\n",
    "# plt.axhline(stockData['Adjusted Close'][1],color='g', linestyle='dashed',linewidth=2)\n",
    "plt.show()"
   ]
  },
  {
   "cell_type": "code",
   "execution_count": null,
   "metadata": {},
   "outputs": [],
   "source": []
  }
 ],
 "metadata": {
  "kernelspec": {
   "display_name": "Python 3",
   "language": "python",
   "name": "python3"
  },
  "language_info": {
   "codemirror_mode": {
    "name": "ipython",
    "version": 3
   },
   "file_extension": ".py",
   "mimetype": "text/x-python",
   "name": "python",
   "nbconvert_exporter": "python",
   "pygments_lexer": "ipython3",
   "version": "3.6.5"
  }
 },
 "nbformat": 4,
 "nbformat_minor": 2
}
